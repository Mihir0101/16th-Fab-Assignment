{
 "cells": [
  {
   "cell_type": "markdown",
   "id": "ebff9677-ca59-4aca-998a-63ea5b3493d3",
   "metadata": {},
   "source": [
    "# 16th Fab Assignment"
   ]
  },
  {
   "cell_type": "markdown",
   "id": "96855c62-1656-41fd-9c1c-44006455dd54",
   "metadata": {},
   "source": [
    "Q1. What is a database? Differentiate between SQL and NoSQL databases.\n",
    "\n",
    "->> Database is a structured collection of data that can be used elecrically.\n",
    "->> We can store the data in database and also retrieve and manipulate them.\n",
    "\n",
    "\n",
    "* Differentiate between SQL and NoSQL databases.\n",
    "\n",
    " \n",
    "SQL : \n",
    "\n",
    "->> SQL stands for Structured Query Language.\n",
    "->> SQL is an type  of database,we also call this database as relational database.\n",
    "->> We can store our data in form of table and in a structured manner.\n",
    "->> SQL is used for online transition ,e-commerce etc.SQL database use SQL as a standard query language.\n",
    "    \n",
    "\n",
    "NoSQL : \n",
    "\n",
    "->> NoSQL is stands for Not Only SQL.\n",
    "->> NoSQL is stands for Not Only SQL.\n",
    "->> It is also a type of database and this database is not realational.\n",
    "->> We can store our data in any forms like graph,key-value,document etc.\n",
    "->> NoSQL have variety in languages according to the type of database.\n"
   ]
  },
  {
   "cell_type": "markdown",
   "id": "56eaebe2-b51f-4edc-8f5b-c65b7a6591fb",
   "metadata": {},
   "source": [
    "________________________________________________________________________________________________________________________________________________"
   ]
  },
  {
   "cell_type": "markdown",
   "id": "c88cae98-f5e8-45f2-95eb-68e2276fa040",
   "metadata": {},
   "source": [
    "Q2. What is DDL? Explain why CREATE, DROP, ALTER, and TRUNCATE are used with an example."
   ]
  },
  {
   "cell_type": "markdown",
   "id": "53615990-5bf5-4ee4-8117-6e2855174e6c",
   "metadata": {},
   "source": [
    "->> DDL stands for Data Definition Language.\n",
    "\n",
    "->> It is subset of SQL.\n",
    "\n",
    "->> DDL is used for modify,delete,creat the objects of database.\n"
   ]
  },
  {
   "cell_type": "markdown",
   "id": "22b6abd3-392c-4da3-acc0-8d5bcdc4c63a",
   "metadata": {},
   "source": [
    "1. CREAT : CREAT is used to creat new object in database.\n",
    "\n",
    "CREATE TABLE customers (\n",
    "   id INT PRIMARY KEY,\n",
    "   name VARCHAR(50),\n",
    "   email VARCHAR(50),\n",
    "   address VARCHAR(100)\n",
    ");"
   ]
  },
  {
   "cell_type": "markdown",
   "id": "4f3acd29-6471-4848-a0cc-0363d89b685a",
   "metadata": {},
   "source": [
    "2. DROP : This statement is used to delete the object of database.\n",
    "\n",
    "DROP TABLE customers;"
   ]
  },
  {
   "cell_type": "markdown",
   "id": "e769c87f-bd6e-4272-b81e-633c965cebbe",
   "metadata": {},
   "source": [
    "3. ALTER : This statement is used for modify the database object.\n",
    "\n",
    "ALTER TABLE customers ADD phone VARCHAR(20);"
   ]
  },
  {
   "cell_type": "markdown",
   "id": "b365fbbb-556a-46f3-8a64-a90b9a6b2f97",
   "metadata": {},
   "source": [
    "4. TRUNCATE : This statement is used for delete the all data from table.\n",
    "\n",
    "TRUNCATE TABLE customers;"
   ]
  },
  {
   "cell_type": "markdown",
   "id": "fdcc48eb-d9d6-40cb-9974-e26d1d8625f6",
   "metadata": {},
   "source": [
    "________________________________________________________________________________________________________________________________________________"
   ]
  },
  {
   "cell_type": "markdown",
   "id": "11bff248-a578-483f-978e-43f680e0c67e",
   "metadata": {},
   "source": [
    "Q3. What is DML? Explain INSERT, UPDATE, and DELETE with an example.\n",
    "\n",
    "->> DML stands for Data Manipulation Language.It is uded to add , modify and delete the data in database."
   ]
  },
  {
   "cell_type": "code",
   "execution_count": null,
   "id": "8ed436eb-8dc2-4e10-94b3-f357058bbb15",
   "metadata": {},
   "outputs": [],
   "source": [
    "1. INSERT\n",
    "->> This statement is used to add new data to a database table.\n",
    "\n",
    "INSERT INTO customers (id, name, email, address) VALUES (1, 'John Smith', 'john@example.com', '123 Main St');"
   ]
  },
  {
   "cell_type": "code",
   "execution_count": null,
   "id": "7ba369a1-f894-4529-8847-4412417b8cfc",
   "metadata": {},
   "outputs": [],
   "source": [
    "2 . UPDATE\n",
    "->> This statement is used to modify existing data in a database table.\n",
    "\n",
    "UPDATE customers SET email='newemail@example.com' WHERE id=1;\n"
   ]
  },
  {
   "cell_type": "code",
   "execution_count": null,
   "id": "1fdea58a-0b20-4aa1-b798-1939cae2b805",
   "metadata": {},
   "outputs": [],
   "source": [
    "3. DELETE\n",
    "->> This statement is used to remove data from a database table.\n",
    "\n",
    "DELETE FROM customers WHERE id=1;"
   ]
  },
  {
   "cell_type": "markdown",
   "id": "ad4c36c1-4991-4442-932c-1849d2855a22",
   "metadata": {},
   "source": [
    "________________________________________________________________________________________________________________________________________________"
   ]
  },
  {
   "cell_type": "markdown",
   "id": "fb4b14d6-fb0b-43d7-97a0-15febbdc87ee",
   "metadata": {},
   "source": [
    "Q4. What is DQL? Explain SELECT with an example.\n",
    "\n",
    "->> DQL stands for Data Query Language, which is a subset of SQL used to retrieve data from a database. DQL statements are used to perform queries on the data stored in a database, allowing users to filter, sort, and group data based on specific criteria.\n",
    "\n"
   ]
  },
  {
   "cell_type": "markdown",
   "id": "14f64abb-ae84-4c2c-a5ef-3cab45ed027a",
   "metadata": {},
   "source": [
    "* SELECT\n",
    "\n",
    "->> The most commonly used DQL statement is SELECT, which is used to retrieve data from one or more tables in a database."
   ]
  },
  {
   "cell_type": "code",
   "execution_count": null,
   "id": "bb3b4366-21c7-4685-badf-748cbfaebb00",
   "metadata": {},
   "outputs": [],
   "source": [
    "SELECT * from test3.test_table"
   ]
  },
  {
   "cell_type": "markdown",
   "id": "65baec48-9472-4e1f-91cc-e3e04c845220",
   "metadata": {},
   "source": [
    "________________________________________________________________________________________________________________________________________________"
   ]
  },
  {
   "cell_type": "markdown",
   "id": "c50e8114-3cbb-45b9-815a-bfb677df0074",
   "metadata": {},
   "source": [
    "Q5. Explain Primary Key and Foreign Key.\n",
    "\n",
    "* Primary Key\n",
    "\n",
    "->> Pimary key is a coulmn of set of coulmn in database table.\n",
    "\n",
    "->> It uniquely identify the data.\n",
    "\n",
    "->> It used to ensure that there is no simillar data in the table of database.\n",
    "\n",
    "Example :\n",
    "\n",
    "CREATE TABLE students (\n",
    "    id INT PRIMARY KEY,\n",
    "    name VARCHAR(50),\n",
    "    age INT,\n",
    "    grade VARCHAR(10)\n",
    ");\n",
    "\n",
    "\n",
    "\n",
    "* Foreign Key\n",
    "\n",
    "->> A foreign key is a column or a set of columns in a database table that refers to the primary key column(s) in another table. \n",
    "\n",
    "->> The foreign key constraint ensures that the values in the foreign key column(s) match the values in the primary key column(s) of the referenced table.\n",
    "\n",
    "Example :\n",
    "\n",
    "CREATE TABLE students (\n",
    "    id INT PRIMARY KEY,\n",
    "    name VARCHAR(50),\n",
    "    age INT,\n",
    "    course_id INT,\n",
    "    FOREIGN KEY (course_id) REFERENCES courses(course_id)\n",
    ");\n",
    "\n",
    "CREATE TABLE courses (\n",
    "    course_id INT PRIMARY KEY,\n",
    "    course_name VARCHAR(50)\n",
    ");\n",
    "\n",
    "\n"
   ]
  },
  {
   "cell_type": "markdown",
   "id": "3f85daab-fd66-48fd-8e63-77444990c8d7",
   "metadata": {},
   "source": [
    "________________________________________________________________________________________________________________________________________________"
   ]
  },
  {
   "cell_type": "code",
   "execution_count": null,
   "id": "949d0718-f31c-4246-8e1a-9605d97b2bf2",
   "metadata": {},
   "outputs": [],
   "source": [
    "Q6. Write a python code to connect MySQL to python. Explain the cursor() and execute() method.\n",
    "\n",
    "\n",
    "* Code :\n",
    "    \n",
    "    \n",
    "import mysql.connector\n",
    "\n",
    "\n",
    "mydb=mysql.connector.connect(\n",
    "    host=\"localhost\",\n",
    "    user=\"Mihir\",\n",
    "    password=\"abcd@1234\"\n",
    ")\n",
    "\n",
    "mycursor=mydb.cursor()\n",
    "mycursor.execute(\"CREAT DATABASE if not exists data11\")\n",
    "mydb.close()\n",
    "\n",
    "\n",
    "\n",
    "\n",
    "->> In SQL cusor() and execute() is used to interact with database with many language like python and java.\n",
    "\n",
    "\n",
    "\n",
    "* cursor() :\n",
    "\n",
    "->> cursor() is used to creat cursor object.\n",
    "\n",
    "->> The cursor object provides methods for executing SQL queries, fetching rows, and manipulating data in a database.\n",
    "    \n",
    "->> We can see the above written code for the example of cursor().   \n",
    "\n",
    "\n",
    "* execute() :\n",
    "    \n",
    "->> The execute() method is used to execute a SQL query on a database using a cursor object. \n",
    "\n",
    "->> The execute() method takes a SQL query as its argument and returns the number of rows affected by the query.\n",
    "\n",
    "->> We can see the above written code for the example of cursor().    "
   ]
  },
  {
   "cell_type": "markdown",
   "id": "8054e640-88c5-4c08-aa82-80e4dc01aaa9",
   "metadata": {},
   "source": [
    "________________________________________________________________________________________________________________________________________________"
   ]
  },
  {
   "cell_type": "code",
   "execution_count": null,
   "id": "a77b32b8-ec59-4710-8b84-176608c53b6e",
   "metadata": {},
   "outputs": [],
   "source": [
    "Q7. Give the order of execution of SQL clauses in an SQL query.\n",
    "\n",
    "\n",
    "1.SELECT: \n",
    "\n",
    "The SELECT clause is used to specify the columns that you want to retrieve from a database. \n",
    "It is the first clause to be executed in an SQL query.\n",
    "\n",
    "\n",
    "2.FROM: \n",
    "    \n",
    "The FROM clause is used to specify the table(s) from which you want to retrieve data.\n",
    "It is the second clause to be executed in an SQL query.\n",
    "\n",
    "\n",
    "\n",
    "3.WHERE: \n",
    "    \n",
    "The WHERE clause is used to filter the data that you want to retrieve based on certain conditions. \n",
    "It is the third clause to be executed in an SQL query, and it operates on the rows returned by the FROM clause.\n",
    "\n",
    "\n",
    "4.GROUP BY: \n",
    "    \n",
    "The GROUP BY clause is used to group the data returned by a query based on one or more columns. \n",
    "It is the fourth clause to be executed in an SQL query, and it operates on the rows returned by the WHERE clause.\n",
    "\n",
    "\n",
    "5.HAVING: \n",
    "    \n",
    "The HAVING clause is used to filter the groups created by the GROUP BY clause based on certain conditions. \n",
    "It is the fifth clause to be executed in an SQL query, and it operates on the groups created by the GROUP BY clause.\n",
    "\n",
    "\n",
    "6.ORDER BY: \n",
    "    \n",
    "The ORDER BY clause is used to sort the data returned by a query based on one or more columns. \n",
    "It is the sixth clause to be executed in an SQL query, and it operates on the rows or groups returned by the previous clauses.\n",
    "\n",
    "\n",
    "7.LIMIT/OFFSET: \n",
    "    \n",
    "The LIMIT and OFFSET clauses are used to limit the number of rows returned by a query and to specify the starting point of the returned rows, respectively.\n",
    "They are the final clauses to be executed in an SQL query, and they operate on the rows or groups returned by the previous clauses.\n",
    "\n"
   ]
  }
 ],
 "metadata": {
  "kernelspec": {
   "display_name": "Python 3 (ipykernel)",
   "language": "python",
   "name": "python3"
  },
  "language_info": {
   "codemirror_mode": {
    "name": "ipython",
    "version": 3
   },
   "file_extension": ".py",
   "mimetype": "text/x-python",
   "name": "python",
   "nbconvert_exporter": "python",
   "pygments_lexer": "ipython3",
   "version": "3.10.8"
  }
 },
 "nbformat": 4,
 "nbformat_minor": 5
}
